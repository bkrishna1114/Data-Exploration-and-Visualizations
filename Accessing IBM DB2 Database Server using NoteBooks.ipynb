{
    "cells": [
        {
            "cell_type": "markdown",
            "metadata": {
                "collapsed": true
            },
            "source": "# Movies Data Analysis Using Python and IBM DB2 in Jypyter Notebooks\n\n\n<p> This is a simple movie data visualization project.In this project we will connect IBM DB2 Database from note books using ibm_db and sql_magic libraries to access cloud databases and create a table and retrive data from the database to pandas Data frame.after retriving data we will simply visualize the Data using matplotlib and seaborn.</p>\n\n* **Used Technology** ---    python,IBM DB2 server,seaborn,matplotlib,pandas\n* **Tools** -- IBM cloud,jupyter notebook"
        },
        {
            "cell_type": "markdown",
            "metadata": {},
            "source": "\n**If ibm_db is not installed in your library please type Below code for installing before your program compiled.**\n<br>\n!pip install ibm_db"
        },
        {
            "cell_type": "code",
            "execution_count": 1,
            "metadata": {},
            "outputs": [
                {
                    "name": "stdout",
                    "output_type": "stream",
                    "text": "Requirement already satisfied: ibm_db in /opt/conda/envs/Python-3.8-main/lib/python3.8/site-packages (3.0.4)\r\n"
                }
            ],
            "source": "!pip install ibm_db    # I have already installed this library\nimport ibm_db          #importing ibm_db library for accessing the databases in notebook."
        },
        {
            "cell_type": "markdown",
            "metadata": {},
            "source": "### Defining IBM_DB2 Credintials for accessing database tables like below\nDriver,Hostname,port,Database,userid,Password,protcol,Security"
        },
        {
            "cell_type": "code",
            "execution_count": 2,
            "metadata": {},
            "outputs": [
                {
                    "name": "stdout",
                    "output_type": "stream",
                    "text": "DRIVER={IBM DB2 ODBC DRIVER};DATABASE=bludb;HOSTNAME=764264db-9824-4b7c-82df-40d1b13897c2.bs2io90l08kqb1od8lcg.databases.appdomain.cloud;PORT=32536;PROTOCOL=TCPIP;UID=zmj66938;PWD=C7gM6diVIx3KUguA;SECURITY=SSL;\n"
                }
            ],
            "source": "#defining Credintials....of IBM_db2 server\n\ndsn_driver       = '{IBM DB2 ODBC DRIVER}'\ndsn_database     = 'bludb' \ndsn_hostname     = '764264db-9824-4b7c-82df-40d1b13897c2.bs2io90l08kqb1od8lcg.databases.appdomain.cloud'\ndsn_port         = 'XXXXXX'\ndsn_protcol      = 'TCPIP'\ndsn_username     = 'zmj66938'\ndsn_password     = 'xxxxxxxxxxxxx'\ndsn_security     = 'SSL'\n\n\ndsn = (\"DRIVER={0};\"\n       \"DATABASE={1};\"\n       \"HOSTNAME={2};\"\n       \"PORT={3};\"\n       \"PROTOCOL={4};\"\n       \"UID={5};\"\n       \"PWD={6};\"\n       \"SECURITY={7};\").format(dsn_driver,dsn_database,dsn_hostname,dsn_port,dsn_protcol,dsn_username,dsn_password,dsn_security)\nprint(dsn)     #printing Credintials................"
        },
        {
            "cell_type": "markdown",
            "metadata": {},
            "source": "### Connecting To IBM DB2 Server using ibm_db API"
        },
        {
            "cell_type": "code",
            "execution_count": 3,
            "metadata": {},
            "outputs": [
                {
                    "name": "stdout",
                    "output_type": "stream",
                    "text": "Database is connected as :  bludb as   zmj66938 on host --> 764264db-9824-4b7c-82df-40d1b13897c2.bs2io90l08kqb1od8lcg.databases.appdomain.cloud\n"
                }
            ],
            "source": "#Creating Exception Handling For handling server side errors in python.\n\ntry :\n    conn = ibm_db.connect(dsn,\"\",\"\")\n    print(\"Database is connected as : \",dsn_database,\"as  \",dsn_username,\"on host -->\",dsn_hostname)\nexcept:\n    print(\"Unable to Connect to the IBM DB2 Server -->\\n\",ibm_db.conn_errormsg())"
        },
        {
            "cell_type": "markdown",
            "metadata": {},
            "source": "### Creating Table in IBM DB2 Server ...\nData base is connected sucessfully we will create a movies table in IBM db2 server"
        },
        {
            "cell_type": "code",
            "execution_count": null,
            "metadata": {},
            "outputs": [],
            "source": "# Declaring statement in python string......\ncreate_table =\"create table Movies(id INTEGER PRIMARY KEY NOT NULL,MovieName varchar(50)\\\n                ,Release_year INTEGER,Rating float,Duration INTEGER)\"\n\n#Executing sql query in IBM DB2 server using ibm_db.exec_immediate function..\ncreate_stmnt_1 = ibm_db.exec_immediate(conn,create_table)        # conn is connection name\nprint(\"Table is Created Sucessfully \")                                                            # Query is the sql Query.."
        },
        {
            "cell_type": "markdown",
            "metadata": {},
            "source": "### INSERT Movies Data into table using SQL-Magic library..\n\nSql magic library is accessing database with in the notebook cell without need of python commands.."
        },
        {
            "cell_type": "code",
            "execution_count": 5,
            "metadata": {},
            "outputs": [
                {
                    "name": "stdout",
                    "output_type": "stream",
                    "text": "Requirement already satisfied: sqlalchemy==1.3.9 in /opt/conda/envs/Python-3.8-main/lib/python3.8/site-packages (1.3.9)\nRequirement already satisfied: ibm_db_sa in /opt/conda/envs/Python-3.8-main/lib/python3.8/site-packages (0.3.7)\nRequirement already satisfied: sqlalchemy>=0.7.3 in /opt/conda/envs/Python-3.8-main/lib/python3.8/site-packages (from ibm_db_sa) (1.3.9)\nRequirement already satisfied: ibm-db>=2.0.0 in /opt/conda/envs/Python-3.8-main/lib/python3.8/site-packages (from ibm_db_sa) (3.0.4)\nRequirement already satisfied: ipython-sql in /opt/conda/envs/Python-3.8-main/lib/python3.8/site-packages (0.4.0)\nRequirement already satisfied: sqlparse in /opt/conda/envs/Python-3.8-main/lib/python3.8/site-packages (from ipython-sql) (0.4.2)\nRequirement already satisfied: prettytable<1 in /opt/conda/envs/Python-3.8-main/lib/python3.8/site-packages (from ipython-sql) (0.7.2)\nRequirement already satisfied: ipython>=1.0 in /opt/conda/envs/Python-3.8-main/lib/python3.8/site-packages (from ipython-sql) (7.22.0)\nRequirement already satisfied: sqlalchemy>=0.6.7 in /opt/conda/envs/Python-3.8-main/lib/python3.8/site-packages (from ipython-sql) (1.3.9)\nRequirement already satisfied: ipython-genutils>=0.1.0 in /opt/conda/envs/Python-3.8-main/lib/python3.8/site-packages (from ipython-sql) (0.2.0)\nRequirement already satisfied: six in /opt/conda/envs/Python-3.8-main/lib/python3.8/site-packages (from ipython-sql) (1.15.0)\nRequirement already satisfied: pygments in /opt/conda/envs/Python-3.8-main/lib/python3.8/site-packages (from ipython>=1.0->ipython-sql) (2.9.0)\nRequirement already satisfied: jedi>=0.16 in /opt/conda/envs/Python-3.8-main/lib/python3.8/site-packages (from ipython>=1.0->ipython-sql) (0.17.2)\nRequirement already satisfied: pickleshare in /opt/conda/envs/Python-3.8-main/lib/python3.8/site-packages (from ipython>=1.0->ipython-sql) (0.7.5)\nRequirement already satisfied: setuptools>=18.5 in /opt/conda/envs/Python-3.8-main/lib/python3.8/site-packages (from ipython>=1.0->ipython-sql) (52.0.0.post20210125)\nRequirement already satisfied: prompt-toolkit!=3.0.0,!=3.0.1,<3.1.0,>=2.0.0 in /opt/conda/envs/Python-3.8-main/lib/python3.8/site-packages (from ipython>=1.0->ipython-sql) (3.0.17)\nRequirement already satisfied: backcall in /opt/conda/envs/Python-3.8-main/lib/python3.8/site-packages (from ipython>=1.0->ipython-sql) (0.2.0)\nRequirement already satisfied: pexpect>4.3 in /opt/conda/envs/Python-3.8-main/lib/python3.8/site-packages (from ipython>=1.0->ipython-sql) (4.8.0)\nRequirement already satisfied: traitlets>=4.2 in /opt/conda/envs/Python-3.8-main/lib/python3.8/site-packages (from ipython>=1.0->ipython-sql) (5.0.5)\nRequirement already satisfied: decorator in /opt/conda/envs/Python-3.8-main/lib/python3.8/site-packages (from ipython>=1.0->ipython-sql) (5.0.9)\nRequirement already satisfied: parso<0.8.0,>=0.7.0 in /opt/conda/envs/Python-3.8-main/lib/python3.8/site-packages (from jedi>=0.16->ipython>=1.0->ipython-sql) (0.7.0)\nRequirement already satisfied: ptyprocess>=0.5 in /opt/conda/envs/Python-3.8-main/lib/python3.8/site-packages (from pexpect>4.3->ipython>=1.0->ipython-sql) (0.7.0)\nRequirement already satisfied: wcwidth in /opt/conda/envs/Python-3.8-main/lib/python3.8/site-packages (from prompt-toolkit!=3.0.0,!=3.0.1,<3.1.0,>=2.0.0->ipython>=1.0->ipython-sql) (0.2.5)\nThe sql extension is already loaded. To reload it, use:\n  %reload_ext sql\n"
                }
            ],
            "source": "!pip install sqlalchemy==1.3.9\n!pip install ibm_db_sa \n!pip install ipython-sql\n\n\n#importing sql magic to notebook now\nimport sqlalchemy\nimport ibm_db_sa\n\n%load_ext sql    \n#Sql Extension is loaded into notebook we can use cell as sql command line like below inserting method."
        },
        {
            "cell_type": "markdown",
            "metadata": {},
            "source": "#### Connecting IBM DB2  Database to Ipython-sql extension in notebook.."
        },
        {
            "cell_type": "code",
            "execution_count": 6,
            "metadata": {},
            "outputs": [
                {
                    "name": "stdout",
                    "output_type": "stream",
                    "text": "Database Connected To NoteBook Extension \n"
                }
            ],
            "source": "#%sql ibm_db_sa://my-username:my-password@hostname:port/BLUDB?security=SSL\n\n%sql ibm_db_sa://zmj66938:xxxxxxxx@764264db-9824-4b7c-82df-40d1b13897c2.bs2io90l08kqb1od8lcg.databases.appdomain.cloud:xxxx/bludb?security=SSL\nprint(\"Database Connected To NoteBook Extension \")"
        },
        {
            "cell_type": "code",
            "execution_count": null,
            "metadata": {},
            "outputs": [],
            "source": "%%sql  \n-- This will make the entire cell as sql command line  \n\ntruncate TABLE Movies IMMEDIATE;\nINSERT INTO Movies \nVALUES \n(1,'The Nightmare Before Christmas',1993,3.9,4568), \n(2,'The Mummy',1932,3.5,4388), \n(3,'Orphans of the Storm',1921,3.2,9062), \n(4,'The Object of Beauty',1991,2.8,6150), \n(5,'Night Tide',1963,2.8,5126), \n(6,'One Magic Christmas',1985,3.8,5333), \n(7,'Muriels Wedding',1994,3.5,6323), \n(8,'Mothers Boys',1994,3.4,5733), \n(9,'Nosferatu: Original Version',1929,3.5,5651), \n(10,'Nick of Time',1995,3.4,5333), \n(11,'Broken Blossoms',1919,3.3,5367), \n(12,'Big Night',1996,3.6,6561), \n(13,'The Birth of a Nation',1915,2.9,12118), \n(14,'The Boys from Brazil',1978,3.6,7417), \n(15,'Big Doll House',1971,2.9,5696), \n(16,'The Breakfast Club',1985,4.0,5823), \n(17,'The Bride of Frankenstein',1935,3.7,4485), \n(18,'Beautiful Girls',1996,3.5,6755), \n(19,'Bustin Loose',1981,3.7,5598), \n(20,'The Beguiled',1971,3.4,6307), \n(21,'Born on the Fourth of July',1989,3.4,8646), \n(22,'Broadcast News',1987,3.4,7940), \n(23,'Swimming with Sharks',1994,3.3,5586), \n(24,'Beavis and Butt-head Do America',1996,3.4,4852), \n(25,'Brighton Beach Memoirs',1986,3.4,6564), \n(26,'The Best of Times',1986,3.4,6247), \n(27,'Brassed Off',1996,3.5,6040), \n(28,'Last Tango in Paris',1972,3.1,7732), \n(29,'Leprechaun 2',1994,3.2,5125), \n(30,'Incident at Oglala: The Leonard Peltier Story',1992,3.7,5487), \n(31,'Kalifornia',1993,3.4,7095), \n(32,'The Lady Vanishes',1938,3.7,5762), \n(33,'Jingle All the Way',1996,3.6,5371), \n(34,'Killing Zoe',1993,3.4,5773), \n(35,'King of Beggars',1992,3.6,6025), \n(36,'Into the Woods',1990,4.0,9077), \n(37,'Joe Kidd',1972,3.7,5252), \n(38,'In Too Deep',1999,3.9,5823), \n(39,'King Kong',1976,3.2,8044), \n(40,'Internal Affairs',1990,3.5,6885), \n(41,'Jesus Christ Superstar',1973,3.6,6388), \n(42,'In the Name of the Father',1993,3.9,7972), \n(43,'Easy Money',1987,2.8,5794), \n(44,'Do the Right Thing',1989,3.6,7186), \n(45,'Days of Heaven',1978,3.4,5628), \n(46,'Drop Zone',1994,3.4,6087), \n(47,'Escape from L.A.',1996,3.3,6039), \n(48,'Emma',1996,3.5,7260), \n(49,'Disco Godfather',1979,3.0,5869), \n(50,'The Eiger Sanction',1975,3.5,7726);\n\n-- data is inserted sucessfully"
        },
        {
            "cell_type": "markdown",
            "metadata": {},
            "source": "### Storing Datebase Table Into Pandas DataFrame..\n\nInsatll the below library for connecting pandas to ibm db2"
        },
        {
            "cell_type": "code",
            "execution_count": 7,
            "metadata": {},
            "outputs": [],
            "source": "#!pip install ibm_db_dbi    -- if you dont have this library please install with this code.\nimport ibm_db_dbi\nimport pandas as pd"
        },
        {
            "cell_type": "code",
            "execution_count": 40,
            "metadata": {},
            "outputs": [],
            "source": "pcon = ibm_db_dbi.Connection(conn)    #This Will connect the ibm data base with padas..\ndf = pd.read_sql(\"SELECT *FROM Movies\",pcon)   #now the Database Table will become the data Frame"
        },
        {
            "cell_type": "code",
            "execution_count": 41,
            "metadata": {},
            "outputs": [
                {
                    "data": {
                        "text/html": "<div>\n<style scoped>\n    .dataframe tbody tr th:only-of-type {\n        vertical-align: middle;\n    }\n\n    .dataframe tbody tr th {\n        vertical-align: top;\n    }\n\n    .dataframe thead th {\n        text-align: right;\n    }\n</style>\n<table border=\"1\" class=\"dataframe\">\n  <thead>\n    <tr style=\"text-align: right;\">\n      <th></th>\n      <th>ID</th>\n      <th>MOVIENAME</th>\n      <th>RELEASE_YEAR</th>\n      <th>RATING</th>\n      <th>DURATION</th>\n    </tr>\n  </thead>\n  <tbody>\n    <tr>\n      <th>0</th>\n      <td>1</td>\n      <td>The Nightmare Before Christmas</td>\n      <td>1993</td>\n      <td>3.9</td>\n      <td>4568.0</td>\n    </tr>\n    <tr>\n      <th>1</th>\n      <td>2</td>\n      <td>The Mummy</td>\n      <td>1932</td>\n      <td>3.5</td>\n      <td>4388.0</td>\n    </tr>\n    <tr>\n      <th>2</th>\n      <td>3</td>\n      <td>Orphans of the Storm</td>\n      <td>1921</td>\n      <td>3.2</td>\n      <td>9062.0</td>\n    </tr>\n    <tr>\n      <th>3</th>\n      <td>4</td>\n      <td>The Object of Beauty</td>\n      <td>1991</td>\n      <td>2.8</td>\n      <td>6150.0</td>\n    </tr>\n    <tr>\n      <th>4</th>\n      <td>5</td>\n      <td>Night Tide</td>\n      <td>1963</td>\n      <td>2.8</td>\n      <td>5126.0</td>\n    </tr>\n  </tbody>\n</table>\n</div>",
                        "text/plain": "   ID                       MOVIENAME  RELEASE_YEAR  RATING  DURATION\n0   1  The Nightmare Before Christmas          1993     3.9    4568.0\n1   2                       The Mummy          1932     3.5    4388.0\n2   3            Orphans of the Storm          1921     3.2    9062.0\n3   4            The Object of Beauty          1991     2.8    6150.0\n4   5                      Night Tide          1963     2.8    5126.0"
                    },
                    "execution_count": 41,
                    "metadata": {},
                    "output_type": "execute_result"
                }
            ],
            "source": "df.head(5)     #Data is loaded sucessfully."
        },
        {
            "cell_type": "markdown",
            "metadata": {},
            "source": "#### Analysing Movies Dataset"
        },
        {
            "cell_type": "code",
            "execution_count": 10,
            "metadata": {},
            "outputs": [
                {
                    "data": {
                        "text/html": "<div>\n<style scoped>\n    .dataframe tbody tr th:only-of-type {\n        vertical-align: middle;\n    }\n\n    .dataframe tbody tr th {\n        vertical-align: top;\n    }\n\n    .dataframe thead th {\n        text-align: right;\n    }\n</style>\n<table border=\"1\" class=\"dataframe\">\n  <thead>\n    <tr style=\"text-align: right;\">\n      <th></th>\n      <th>ID</th>\n      <th>RELEASE_YEAR</th>\n      <th>RATING</th>\n      <th>DURATION</th>\n    </tr>\n  </thead>\n  <tbody>\n    <tr>\n      <th>count</th>\n      <td>17.000000</td>\n      <td>17.000000</td>\n      <td>17.000000</td>\n      <td>17.000000</td>\n    </tr>\n    <tr>\n      <th>mean</th>\n      <td>26.647059</td>\n      <td>1981.588235</td>\n      <td>3.741176</td>\n      <td>6125.176471</td>\n    </tr>\n    <tr>\n      <th>std</th>\n      <td>13.555170</td>\n      <td>18.698459</td>\n      <td>0.146026</td>\n      <td>1205.732932</td>\n    </tr>\n    <tr>\n      <th>min</th>\n      <td>1.000000</td>\n      <td>1935.000000</td>\n      <td>3.600000</td>\n      <td>4485.000000</td>\n    </tr>\n    <tr>\n      <th>25%</th>\n      <td>16.000000</td>\n      <td>1978.000000</td>\n      <td>3.600000</td>\n      <td>5371.000000</td>\n    </tr>\n    <tr>\n      <th>50%</th>\n      <td>32.000000</td>\n      <td>1989.000000</td>\n      <td>3.700000</td>\n      <td>5823.000000</td>\n    </tr>\n    <tr>\n      <th>75%</th>\n      <td>37.000000</td>\n      <td>1993.000000</td>\n      <td>3.900000</td>\n      <td>6561.000000</td>\n    </tr>\n    <tr>\n      <th>max</th>\n      <td>44.000000</td>\n      <td>1999.000000</td>\n      <td>4.000000</td>\n      <td>9077.000000</td>\n    </tr>\n  </tbody>\n</table>\n</div>",
                        "text/plain": "              ID  RELEASE_YEAR     RATING     DURATION\ncount  17.000000     17.000000  17.000000    17.000000\nmean   26.647059   1981.588235   3.741176  6125.176471\nstd    13.555170     18.698459   0.146026  1205.732932\nmin     1.000000   1935.000000   3.600000  4485.000000\n25%    16.000000   1978.000000   3.600000  5371.000000\n50%    32.000000   1989.000000   3.700000  5823.000000\n75%    37.000000   1993.000000   3.900000  6561.000000\nmax    44.000000   1999.000000   4.000000  9077.000000"
                    },
                    "execution_count": 10,
                    "metadata": {},
                    "output_type": "execute_result"
                }
            ],
            "source": "df.describe()      #It will Describe about the Dataset more precisely."
        },
        {
            "cell_type": "markdown",
            "metadata": {},
            "source": "#### We will visualize which year movies are more sucessful and we will find the corelation between year and movie Ratings"
        },
        {
            "cell_type": "code",
            "execution_count": 11,
            "metadata": {},
            "outputs": [],
            "source": "import matplotlib.pyplot as plt\n%matplotlib inline\nimport seaborn as sys"
        },
        {
            "cell_type": "code",
            "execution_count": 43,
            "metadata": {},
            "outputs": [
                {
                    "name": "stdout",
                    "output_type": "stream",
                    "text": " * ibm_db_sa://zmj66938:***@764264db-9824-4b7c-82df-40d1b13897c2.bs2io90l08kqb1od8lcg.databases.appdomain.cloud:32536/bludb\nDone.\n"
                },
                {
                    "data": {
                        "image/png": "[encoded data removed]",
                        "text/plain": "<Figure size 432x288 with 1 Axes>"
                    },
                    "metadata": {
                        "needs_background": "light"
                    },
                    "output_type": "display_data"
                }
            ],
            "source": "average_movies = %sql SELECT *FROM Movies;\n\ndf2 = average_movies.DataFrame()\n\nplt.scatter('rating','duration',data=df2,color='r')\nplt.title(\"Average Hit Movies\")\nplt.show()                                      #most of the Movies are Hit if movie "
        },
        {
            "cell_type": "code",
            "execution_count": 39,
            "metadata": {},
            "outputs": [
                {
                    "data": {
                        "image/png": "[encoded data removed]",
                        "text/plain": "<Figure size 864x576 with 1 Axes>"
                    },
                    "metadata": {
                        "needs_background": "light"
                    },
                    "output_type": "display_data"
                }
            ],
            "source": "fig_dims = (12, 8)\nfig, ax = plt.subplots(figsize=fig_dims)\n\nplot=sys.swarmplot(y='RATING',x='RELEASE_YEAR',data = df,color='darkgreen')\nplt.setp(plot.get_xticklabels(),rotation= 70)\nplt.title(\"Hit Movies\")\nplt.show()\n"
        },
        {
            "cell_type": "markdown",
            "metadata": {},
            "source": "This Data will Explain most of the Movies are average only few movies are super hit for Every 5 years "
        },
        {
            "cell_type": "markdown",
            "metadata": {},
            "source": "### Closing Database Connection"
        },
        {
            "cell_type": "code",
            "execution_count": 44,
            "metadata": {},
            "outputs": [
                {
                    "name": "stdout",
                    "output_type": "stream",
                    "text": "Your Database connection Closed\n"
                }
            ],
            "source": "try:\n    ibm_db.close(conn)  #Closing The Connectin\n    print('Your Database connection Closed')\nexcept:\n    print(\"you are already disconnected from database\")"
        }
    ],
    "metadata": {
        "kernelspec": {
            "display_name": "Python 3.8",
            "language": "python",
            "name": "python3"
        },
        "language_info": {
            "codemirror_mode": {
                "name": "ipython",
                "version": 3
            },
            "file_extension": ".py",
            "mimetype": "text/x-python",
            "name": "python",
            "nbconvert_exporter": "python",
            "pygments_lexer": "ipython3",
            "version": "3.8.11"
        }
    },
    "nbformat": 4,
    "nbformat_minor": 1
}